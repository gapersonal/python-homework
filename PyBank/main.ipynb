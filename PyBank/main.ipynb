{
 "cells": [
  {
   "cell_type": "code",
   "execution_count": 79,
   "metadata": {},
   "outputs": [],
   "source": [
    "#Import from pathlib Library\n",
    "from pathlib import Path\n",
    "import csv"
   ]
  },
  {
   "cell_type": "code",
   "execution_count": 80,
   "metadata": {},
   "outputs": [],
   "source": [
    "filepath = Path ('C:/Users/gaper/Google Drive/Fintech_Bootcamp/utor-tor-fin-pt-11-2020-u-c/Homework/02-Python/Instructions/PyBank/Resources/budget_data.csv')"
   ]
  },
  {
   "cell_type": "code",
   "execution_count": 81,
   "metadata": {},
   "outputs": [],
   "source": [
    "#Loop to get the data from columns in csv file to two seperate lists for Months and Profit/ Loss (PL)\n",
    "Months = []\n",
    "PL = []\n",
    "with open (filepath, 'r') as csvfile:\n",
    "    csvreader = csv.reader(csvfile, delimiter = ',')\n",
    "    headers = next(csvreader)\n",
    "    for entry in csvreader:\n",
    "        Month = str(entry[0])\n",
    "        Months.append(Month)\n",
    "        PnL = int(entry[1])\n",
    "        PL.append(PnL) \n",
    "    \n",
    "#Loop will get the Total PL from list total_pl\n",
    "i = 0\n",
    "total_pl = 0\n",
    "while i < len(Months):\n",
    "    total_pl += PL[i-1]\n",
    "    i += 1\n",
    "\n",
    "#Loop will create the list for month over month changes \n",
    "# i count is set to 1 as there is not data for first entry. if not done this way, first entry will difference of first and last item on the list i.e., PL[0] - PL[-1]\n",
    "Changes = []\n",
    "i = 1\n",
    "while i < len(Months):\n",
    "    Diff = int(PL[i] - PL[i-1])\n",
    "    Changes.append(Diff)\n",
    "    i += 1\n",
    "Avg = round(sum(Changes)/len(Changes),2)"
   ]
  },
  {
   "cell_type": "code",
   "execution_count": 82,
   "metadata": {},
   "outputs": [],
   "source": [
    "# Loop will get the greatest increase and decrease in the List \"Change\" and also assign the postion of them to Increase_Month and Decrease_Month position. \n",
    "Decrease = 0\n",
    "Increase = 0\n",
    "Increase_Month_Position = 1\n",
    "Decrease_Month_Position = 1\n",
    "Change_Cnt = 0\n",
    "for Change in Changes:\n",
    "    Change_Cnt += 1\n",
    "    if Change > Increase:\n",
    "        Increase = Change\n",
    "        Increase_Month_Position = Change_Cnt\n",
    "    elif Change <= Decrease:\n",
    "        Decrease = Change\n",
    "        Decrease_Month_Position = Change_Cnt"
   ]
  },
  {
   "cell_type": "code",
   "execution_count": 83,
   "metadata": {},
   "outputs": [],
   "source": [
    "#This prints the desired outut to a text file. \n",
    "output_path = Path('Data.txt')\n",
    "with open (output_path, 'w') as file:\n",
    "    file.write(\"Financial Analysis \\n----------------------------\\n\")\n",
    "    file.write(\"Total Months: \" + str(len(Months)) + \"\\n\")\n",
    "    file.write(\"Total: \" + \"${:.0f}\".format(total_pl) + \"\\n\")\n",
    "    file.write(\"Average Change: \" + \"${:.2f}\".format(Avg) + \"\\n\")\n",
    "    file.write(\"Greatest Increase in Profits: \" + Months[Increase_Month_Position] + \" (\"+ \"${:.0f}\".format(Increase) + \")\\n\")\n",
    "    file.write(\"Greatest Decrease in Profits: \" +Months[Decrease_Month_Position] + \" (\"+ \"${:.0f}\".format(Decrease) + \")\\n\")"
   ]
  },
  {
   "cell_type": "code",
   "execution_count": null,
   "metadata": {},
   "outputs": [],
   "source": []
  }
 ],
 "metadata": {
  "kernelspec": {
   "display_name": "Python 3",
   "language": "python",
   "name": "python3"
  },
  "language_info": {
   "codemirror_mode": {
    "name": "ipython",
    "version": 3
   },
   "file_extension": ".py",
   "mimetype": "text/x-python",
   "name": "python",
   "nbconvert_exporter": "python",
   "pygments_lexer": "ipython3",
   "version": "3.8.5"
  }
 },
 "nbformat": 4,
 "nbformat_minor": 4
}
